{
 "cells": [
  {
   "cell_type": "markdown",
   "metadata": {},
   "source": [
    "# Importing Data"
   ]
  },
  {
   "cell_type": "code",
   "execution_count": 2,
   "metadata": {},
   "outputs": [],
   "source": [
    "# Install using \"pip install surprise\"\n",
    "import numpy as np\n",
    "import numba\n",
    "import matplotlib.pyplot as plt"
   ]
  },
  {
   "cell_type": "code",
   "execution_count": 3,
   "metadata": {},
   "outputs": [],
   "source": [
    "# Matrix factorization functions from homework\n",
    "@numba.jit\n",
    "def grad_U(Ui, Yij, Vj, reg, eta):\n",
    "    \"\"\"\n",
    "    Takes as input Ui (the ith row of U), a training point Yij, the column\n",
    "    vector Vj (jth column of V^T), reg (the regularization parameter lambda),\n",
    "    and eta (the learning rate).\n",
    "\n",
    "    Returns the gradient of the regularized loss function with\n",
    "    respect to Ui multiplied by eta.\n",
    "    \"\"\"\n",
    "    # Gradient with respect to Ui\n",
    "    return eta*(reg*Ui-Vj*(Yij-np.dot(Ui.T,Vj)))\n",
    "\n",
    "@numba.jit\n",
    "def grad_V(Vj, Yij, Ui, reg, eta):\n",
    "    \"\"\"\n",
    "    Takes as input the column vector Vj (jth column of V^T), a training point Yij,\n",
    "    Ui (the ith row of U), reg (the regularization parameter lambda),\n",
    "    and eta (the learning rate).\n",
    "\n",
    "    Returns the gradient of the regularized loss function with\n",
    "    respect to Vj multiplied by eta.\n",
    "    \"\"\"\n",
    "    # Gradient with respect to Vj\n",
    "    return eta*(reg*Vj-Ui*(Yij-np.dot(Vj.T,Ui)))\n",
    "\n",
    "@numba.jit\n",
    "def get_err(U, V, Y, reg=0.0):\n",
    "    \"\"\"\n",
    "    Takes as input a matrix Y of triples (i, j, Y_ij) where i is the index of a user,\n",
    "    j is the index of a movie, and Y_ij is user i's rating of movie j and\n",
    "    user/movie matrices U and V.\n",
    "\n",
    "    Returns the mean regularized squared-error of predictions made by\n",
    "    estimating Y_{ij} as the dot product of the ith row of U and the jth column of V^T.\n",
    "    \"\"\"\n",
    "    err = 0\n",
    "    # Compute squared error\n",
    "    for i,j,Yij in Y:\n",
    "        i=i-1\n",
    "        j=j-1\n",
    "        err = err + (Yij-np.dot(U[i],V[j]))**2\n",
    "    # Return MSE + regularization\n",
    "    return err/len(Y)/2+reg/2.0*(np.linalg.norm(U)**2+np.linalg.norm(V)**2)\n",
    "\n",
    "@numba.jit\n",
    "def train_model(M, N, K, eta, reg, Y, eps=0.0001, max_epochs=300):\n",
    "    \"\"\"\n",
    "    Given a training data matrix Y containing rows (i, j, Y_ij)\n",
    "    where Y_ij is user i's rating on movie j, learns an\n",
    "    M x K matrix U and N x K matrix V such that rating Y_ij is approximated\n",
    "    by (UV^T)_ij.\n",
    "\n",
    "    Uses a learning rate of <eta> and regularization of <reg>. Stops after\n",
    "    <max_epochs> epochs, or once the magnitude of the decrease in regularized\n",
    "    MSE between epochs is smaller than a fraction <eps> of the decrease in\n",
    "    MSE after the first epoch.\n",
    "\n",
    "    Returns a tuple (U, V, err) consisting of U, V, and the unregularized MSE\n",
    "    of the model.\n",
    "    \"\"\"\n",
    "    # initial U and V to random floats from -0.5 to 0.5\n",
    "    U = np.reshape(np.random.rand(M*K)-0.5,(M,K))\n",
    "    V = np.reshape(np.random.rand(N*K)-0.5,(N,K))\n",
    "    # Storage of U,V,err for each epoch\n",
    "    data = []\n",
    "    # For eps termination\n",
    "    preverr = 100\n",
    "    for epoch in range(0,max_epochs):\n",
    "        # Shuffles the data before each epoch\n",
    "        idx=np.random.permutation(np.arange(len(Y)))\n",
    "        for i,j,Yij in Y[idx]:\n",
    "            # Convert indices counting from 0\n",
    "            i=i-1\n",
    "            j=j-1\n",
    "            Ui = U[i]\n",
    "            Vj = V[j]\n",
    "            # Randomly update U or V\n",
    "            if np.random.randint(2):                \n",
    "                U[i]=U[i]-grad_U(Ui, Yij, Vj, reg, eta)\n",
    "            else:\n",
    "                V[j]=V[j]-grad_V(Vj, Yij, Ui, reg, eta)\n",
    "        # Compute the error\n",
    "        err = get_err(U,V,Y)\n",
    "        data.append([U,V,err])\n",
    "        if epoch%5==0:\n",
    "            print('SGD on epoch ',epoch,', error=',err)\n",
    "        # Terminate if error reduction is less than eps\n",
    "        if abs(err-preverr) < eps:\n",
    "            print('EPS condition reached')\n",
    "            break\n",
    "        preverr = err\n",
    "    # Final output\n",
    "    data=np.array(data)\n",
    "    return data[-1,0],data[-1,1],data[-1,2]"
   ]
  },
  {
   "cell_type": "code",
   "execution_count": 3,
   "metadata": {},
   "outputs": [],
   "source": [
    "# Reader that reads tab-separated data\n",
    "full = np.loadtxt(\"./data/data.txt\")"
   ]
  },
  {
   "cell_type": "markdown",
   "metadata": {},
   "source": [
    "# Hyperparameter optimization\n",
    "\n",
    "Optimize $\\lambda$ while fixing $\\kappa=20$"
   ]
  },
  {
   "cell_type": "code",
   "execution_count": 4,
   "metadata": {},
   "outputs": [
    {
     "name": "stdout",
     "output_type": "stream",
     "text": [
      "Training model with M = 943, N = 1682, k = 20, eta = 0.03, reg = 0.0\n",
      "SGD on epoch  0 , error= 0.832277249219461\n",
      "SGD on epoch  5 , error= 0.34519162287889454\n",
      "SGD on epoch  10 , error= 0.27928504367079743\n",
      "SGD on epoch  15 , error= 0.24621755995438693\n",
      "SGD on epoch  20 , error= 0.22667029265907315\n",
      "SGD on epoch  25 , error= 0.21395371972606256\n",
      "SGD on epoch  30 , error= 0.20379147883353282\n",
      "SGD on epoch  35 , error= 0.19862087408193924\n",
      "SGD on epoch  40 , error= 0.1904973491224781\n",
      "SGD on epoch  45 , error= 0.18940611198003066\n",
      "SGD on epoch  50 , error= 0.18498875558589098\n",
      "EPS condition reached\n",
      "Training model with M = 943, N = 1682, k = 20, eta = 0.03, reg = 0.05\n",
      "SGD on epoch  0 , error= 0.8394884036329793\n",
      "SGD on epoch  5 , error= 0.3744282782854446\n",
      "SGD on epoch  10 , error= 0.31995002677856066\n",
      "SGD on epoch  15 , error= 0.28393003912584336\n",
      "SGD on epoch  20 , error= 0.2631186877653127\n",
      "SGD on epoch  25 , error= 0.24973303119861137\n",
      "SGD on epoch  30 , error= 0.24087041793321537\n",
      "SGD on epoch  35 , error= 0.23278755773580953\n",
      "SGD on epoch  40 , error= 0.22777325351915848\n",
      "SGD on epoch  45 , error= 0.22586101331779457\n",
      "SGD on epoch  50 , error= 0.22005900832027442\n",
      "SGD on epoch  55 , error= 0.21834912797600523\n",
      "SGD on epoch  60 , error= 0.21312498746734987\n",
      "SGD on epoch  65 , error= 0.2138130826194614\n",
      "SGD on epoch  70 , error= 0.20883177226363087\n",
      "SGD on epoch  75 , error= 0.21014710921571778\n",
      "SGD on epoch  80 , error= 0.2094074752426144\n",
      "EPS condition reached\n",
      "Training model with M = 943, N = 1682, k = 20, eta = 0.03, reg = 0.1\n",
      "SGD on epoch  0 , error= 0.8926220740502948\n",
      "SGD on epoch  5 , error= 0.411389345823085\n",
      "SGD on epoch  10 , error= 0.37344673155060115\n",
      "SGD on epoch  15 , error= 0.34961240855931275\n",
      "SGD on epoch  20 , error= 0.3308106475593481\n",
      "SGD on epoch  25 , error= 0.3179133408432391\n",
      "SGD on epoch  30 , error= 0.3144001959530368\n",
      "SGD on epoch  35 , error= 0.2989687826446912\n",
      "EPS condition reached\n",
      "Training model with M = 943, N = 1682, k = 20, eta = 0.03, reg = 0.15000000000000002\n",
      "SGD on epoch  0 , error= 0.9118040582396227\n",
      "SGD on epoch  5 , error= 0.4325914937470232\n",
      "SGD on epoch  10 , error= 0.4143642753445427\n",
      "SGD on epoch  15 , error= 0.4047480869337591\n",
      "SGD on epoch  20 , error= 0.39450672314824925\n",
      "EPS condition reached\n",
      "Training model with M = 943, N = 1682, k = 20, eta = 0.03, reg = 0.2\n",
      "SGD on epoch  0 , error= 0.8844171536122288\n",
      "SGD on epoch  5 , error= 0.46094750799577555\n",
      "SGD on epoch  10 , error= 0.4496539097942247\n",
      "SGD on epoch  15 , error= 0.443284865861217\n",
      "SGD on epoch  20 , error= 0.43733062136466333\n",
      "SGD on epoch  25 , error= 0.43270445439406935\n",
      "SGD on epoch  30 , error= 0.43887542527419704\n",
      "SGD on epoch  35 , error= 0.4345361799579236\n",
      "SGD on epoch  40 , error= 0.43034820341343955\n",
      "SGD on epoch  45 , error= 0.42961992437530894\n",
      "SGD on epoch  50 , error= 0.4248890832384822\n",
      "SGD on epoch  55 , error= 0.4283185436109611\n",
      "EPS condition reached\n",
      "Training model with M = 943, N = 1682, k = 20, eta = 0.03, reg = 0.25\n",
      "SGD on epoch  0 , error= 0.9476401313317246\n",
      "SGD on epoch  5 , error= 0.49228796489937265\n",
      "SGD on epoch  10 , error= 0.4798007040964942\n",
      "SGD on epoch  15 , error= 0.4697616752000071\n",
      "SGD on epoch  20 , error= 0.4701002553905097\n",
      "SGD on epoch  25 , error= 0.4663362387662801\n",
      "SGD on epoch  30 , error= 0.46570334805700525\n",
      "SGD on epoch  35 , error= 0.46076957562170956\n",
      "EPS condition reached\n",
      "Training model with M = 943, N = 1682, k = 20, eta = 0.03, reg = 0.30000000000000004\n",
      "SGD on epoch  0 , error= 0.9580327738881208\n",
      "SGD on epoch  5 , error= 0.5090059281015832\n",
      "SGD on epoch  10 , error= 0.5009373206014325\n",
      "SGD on epoch  15 , error= 0.500058796570416\n",
      "SGD on epoch  20 , error= 0.4932465199354937\n",
      "SGD on epoch  25 , error= 0.49525750307157357\n",
      "SGD on epoch  30 , error= 0.4896532097918839\n",
      "SGD on epoch  35 , error= 0.49365642989039343\n",
      "SGD on epoch  40 , error= 0.49900778181829586\n",
      "SGD on epoch  45 , error= 0.4870652946405809\n",
      "SGD on epoch  50 , error= 0.4918021415099025\n",
      "SGD on epoch  55 , error= 0.48598290945907063\n",
      "EPS condition reached\n",
      "Training model with M = 943, N = 1682, k = 20, eta = 0.03, reg = 0.35000000000000003\n",
      "SGD on epoch  0 , error= 0.9791046917996181\n",
      "SGD on epoch  5 , error= 0.5235704558702613\n",
      "SGD on epoch  10 , error= 0.5190668836766076\n",
      "SGD on epoch  15 , error= 0.5146674287955644\n",
      "SGD on epoch  20 , error= 0.5130442044769452\n",
      "SGD on epoch  25 , error= 0.5169628787289687\n",
      "SGD on epoch  30 , error= 0.5154198524122492\n",
      "SGD on epoch  35 , error= 0.5198119143622001\n",
      "SGD on epoch  40 , error= 0.5183351150517727\n",
      "SGD on epoch  45 , error= 0.5112197886682195\n",
      "SGD on epoch  50 , error= 0.5180724202012699\n",
      "SGD on epoch  55 , error= 0.517758216526903\n",
      "SGD on epoch  60 , error= 0.5186784103763641\n",
      "SGD on epoch  65 , error= 0.5183322960978093\n",
      "SGD on epoch  70 , error= 0.5159563005848383\n",
      "SGD on epoch  75 , error= 0.5109389009268462\n",
      "SGD on epoch  80 , error= 0.5173480833974979\n",
      "SGD on epoch  85 , error= 0.5139669126361944\n",
      "SGD on epoch  90 , error= 0.5073538967381251\n",
      "SGD on epoch  95 , error= 0.5132846554588916\n",
      "SGD on epoch  100 , error= 0.5180428221301989\n",
      "SGD on epoch  105 , error= 0.5147386327762298\n",
      "SGD on epoch  110 , error= 0.5125572068747801\n",
      "SGD on epoch  115 , error= 0.5125134658981064\n",
      "SGD on epoch  120 , error= 0.518697863888763\n",
      "SGD on epoch  125 , error= 0.5142881347998021\n",
      "SGD on epoch  130 , error= 0.5179089635797798\n",
      "SGD on epoch  135 , error= 0.5135691897137292\n",
      "SGD on epoch  140 , error= 0.5122424722359342\n",
      "SGD on epoch  145 , error= 0.5163153122595595\n",
      "SGD on epoch  150 , error= 0.5185018874039192\n",
      "SGD on epoch  155 , error= 0.5194944668452831\n",
      "SGD on epoch  160 , error= 0.5151023023133625\n",
      "SGD on epoch  165 , error= 0.5140170412339656\n",
      "SGD on epoch  170 , error= 0.5125687024257461\n",
      "SGD on epoch  175 , error= 0.5149899980350875\n",
      "SGD on epoch  180 , error= 0.513787866321479\n",
      "EPS condition reached\n",
      "Training model with M = 943, N = 1682, k = 20, eta = 0.03, reg = 0.4\n",
      "SGD on epoch  0 , error= 1.0425790296931094\n",
      "SGD on epoch  5 , error= 0.5388126451444867\n",
      "SGD on epoch  10 , error= 0.5403998321089183\n",
      "SGD on epoch  15 , error= 0.5357011126686376\n",
      "SGD on epoch  20 , error= 0.5371211576796863\n",
      "SGD on epoch  25 , error= 0.5330114671667172\n",
      "SGD on epoch  30 , error= 0.5356702568698449\n",
      "EPS condition reached\n",
      "Training model with M = 943, N = 1682, k = 20, eta = 0.03, reg = 0.45\n",
      "SGD on epoch  0 , error= 1.112480693244791\n",
      "SGD on epoch  5 , error= 0.5702368325253886\n",
      "EPS condition reached\n",
      "Training model with M = 943, N = 1682, k = 20, eta = 0.03, reg = 0.5\n",
      "SGD on epoch  0 , error= 1.1393421057312365\n",
      "SGD on epoch  5 , error= 0.5914730809982887\n",
      "SGD on epoch  10 , error= 0.5814173608694098\n",
      "SGD on epoch  15 , error= 0.5923581043824717\n",
      "SGD on epoch  20 , error= 0.5791593693848857\n",
      "SGD on epoch  25 , error= 0.5864336573039525\n",
      "SGD on epoch  30 , error= 0.5831682825751036\n",
      "SGD on epoch  35 , error= 0.5802248191159681\n",
      "SGD on epoch  40 , error= 0.5798532912473481\n",
      "SGD on epoch  45 , error= 0.5719520868076787\n",
      "SGD on epoch  50 , error= 0.5801718256414959\n",
      "SGD on epoch  55 , error= 0.5791468396918394\n",
      "SGD on epoch  60 , error= 0.5826488494388138\n",
      "SGD on epoch  65 , error= 0.5785059795523237\n",
      "SGD on epoch  70 , error= 0.5881257739001438\n",
      "SGD on epoch  75 , error= 0.5761213974623796\n",
      "SGD on epoch  80 , error= 0.5866340096933896\n",
      "SGD on epoch  85 , error= 0.5829695433083291\n",
      "SGD on epoch  90 , error= 0.5786264270102236\n",
      "SGD on epoch  95 , error= 0.5840000238914691\n",
      "SGD on epoch  100 , error= 0.5758497048339917\n",
      "EPS condition reached\n",
      "CPU times: user 14min 43s, sys: 7.63 s, total: 14min 51s\n",
      "Wall time: 14min 45s\n"
     ]
    }
   ],
   "source": [
    "%%time\n",
    "# Plotting code implementations for problem 2E\n",
    "Y_train = np.loadtxt('./data/train.txt').astype(int)\n",
    "Y_test = np.loadtxt('./data/test.txt').astype(int)\n",
    "\n",
    "M = max(max(Y_train[:,0]), max(Y_test[:,0])).astype(int) # users\n",
    "N = max(max(Y_train[:,1]), max(Y_test[:,1])).astype(int) # movies\n",
    "K = 20\n",
    "\n",
    "regs = np.linspace(0,0.5,11)\n",
    "eta = 0.03 # learning rate\n",
    "\n",
    "E_train = []\n",
    "E_val = []\n",
    "# Use to compute Ein and Eout\n",
    "for reg in regs:\n",
    "    print(\"Training model with M = %s, N = %s, k = %s, eta = %s, reg = %s\"%(M, N, K, eta, reg))\n",
    "    U,V, e_in = train_model(M, N, K, eta, reg, Y_train)\n",
    "    E_train.append(e_in)\n",
    "    eout = get_err(U, V, Y_test)\n",
    "    E_val.append(eout)\n",
    "\n",
    "E_train = np.array(E_train)\n",
    "E_val = np.array(E_val)"
   ]
  },
  {
   "cell_type": "code",
   "execution_count": 13,
   "metadata": {},
   "outputs": [
    {
     "data": {
      "image/png": "[encoded data removed]",
      "text/plain": [
       "<matplotlib.figure.Figure at 0x112c932e8>"
      ]
     },
     "metadata": {},
     "output_type": "display_data"
    },
    {
     "name": "stdout",
     "output_type": "stream",
     "text": [
      "[0.   0.05 0.1  0.15 0.2  0.25 0.3  0.35 0.4  0.45 0.5 ]\n"
     ]
    }
   ],
   "source": [
    "# Plot values of E_in across k for each value of lambda\n",
    "plt.figure(1,figsize=(5,5))\n",
    "plt.plot(regs, E_train, label='$E_{training}$',color='blue')\n",
    "plt.scatter(regs, E_train,color='blue')\n",
    "plt.plot(regs, E_val, label='$E_{validation}$',color='orange')\n",
    "plt.scatter(regs, E_val,color='orange')\n",
    "plt.title('MSE vs. $\\lambda$')\n",
    "plt.xlabel('$\\lambda$')\n",
    "plt.ylabel('MSE')\n",
    "plt.legend(loc='center left', bbox_to_anchor=(1, 0.5))\n",
    "plt.savefig('MatrixFactor_hw.png',bbox_inches='tight')\n",
    "plt.show()\n",
    "print(regs)"
   ]
  },
  {
   "cell_type": "markdown",
   "metadata": {},
   "source": [
    "# Training on Full Dataset, Getting Matrices"
   ]
  },
  {
   "cell_type": "code",
   "execution_count": 14,
   "metadata": {},
   "outputs": [
    {
     "name": "stdout",
     "output_type": "stream",
     "text": [
      "Factorizing with  943  users,  1682  movies.\n",
      "SGD on epoch  0 , error= 0.838759088899908\n",
      "SGD on epoch  5 , error= 0.4040209334534994\n",
      "SGD on epoch  10 , error= 0.37139955597416313\n",
      "SGD on epoch  15 , error= 0.34825643677953094\n",
      "SGD on epoch  20 , error= 0.3287539148730221\n",
      "SGD on epoch  25 , error= 0.31732036208662645\n",
      "SGD on epoch  30 , error= 0.30608650890350625\n",
      "SGD on epoch  35 , error= 0.29879871520665846\n",
      "SGD on epoch  40 , error= 0.2954718047185768\n",
      "EPS condition reached\n",
      "CPU times: user 58.6 s, sys: 3.39 s, total: 1min 1s\n",
      "Wall time: 59.1 s\n"
     ]
    }
   ],
   "source": [
    "%%time\n",
    "M = max(max(Y_train[:,0]), max(Y_test[:,0])).astype(int) # users\n",
    "N = max(max(Y_train[:,1]), max(Y_test[:,1])).astype(int) # movies\n",
    "print(\"Factorizing with \", M, \" users, \", N, \" movies.\")\n",
    "K=20\n",
    "reg = 0.1\n",
    "eta = 0.03 # learning rate\n",
    "U,V,err = train_model(M, N, K, eta, reg, Y_train)"
   ]
  },
  {
   "cell_type": "markdown",
   "metadata": {},
   "source": [
    "# SVD and Projection"
   ]
  },
  {
   "cell_type": "code",
   "execution_count": 15,
   "metadata": {},
   "outputs": [
    {
     "name": "stdout",
     "output_type": "stream",
     "text": [
      "Sigma of PCA\n",
      "[65.99876623 18.66079138 13.9543729  12.90239086 12.13588138 11.53034847\n",
      " 11.21276609 10.96617352 10.76668993 10.58644023 10.37509357 10.25726012\n",
      " 10.04728368  9.82419345  9.68482276  9.52181469  9.38573418  9.31443718\n",
      "  9.15004538  8.56646439]\n",
      "Variability captured by top 2 components =  0.3080301712902732\n"
     ]
    }
   ],
   "source": [
    "# Do SVD (singular value decomposition) on the matrices\n",
    "A, Sigma, B = np.linalg.svd(V, full_matrices=False) # V = A @ np.diag(Sigma) @ B\n",
    "# Get PCA representation of movie vector V\n",
    "V_PCA = np.dot(A[:2],V.T).T\n",
    "\n",
    "print('Sigma of PCA')\n",
    "print(Sigma)\n",
    "print('Variability captured by top 2 components = ',(Sigma[0]+Sigma[1])/np.sum(Sigma))"
   ]
  },
  {
   "cell_type": "markdown",
   "metadata": {},
   "source": [
    "# Visualization"
   ]
  },
  {
   "cell_type": "code",
   "execution_count": 16,
   "metadata": {},
   "outputs": [
    {
     "data": {
      "image/png": "[encoded data removed]",
      "text/plain": [
       "<matplotlib.figure.Figure at 0x113633320>"
      ]
     },
     "metadata": {},
     "output_type": "display_data"
    }
   ],
   "source": [
    "# Scatter the 2 dimensions of the reduced V\n",
    "plt.scatter(V_PCA[:,0],V_PCA[:,1])\n",
    "plt.show()"
   ]
  },
  {
   "cell_type": "code",
   "execution_count": 17,
   "metadata": {},
   "outputs": [],
   "source": [
    "# Save factorization data\n",
    "out = [U,V,err]\n",
    "np.save('MatrixFactor_UV_err',out)"
   ]
  },
  {
   "cell_type": "code",
   "execution_count": null,
   "metadata": {},
   "outputs": [],
   "source": []
  }
 ],
 "metadata": {
  "kernelspec": {
   "display_name": "Python 3",
   "language": "python",
   "name": "python3"
  },
  "language_info": {
   "codemirror_mode": {
    "name": "ipython",
    "version": 3
   },
   "file_extension": ".py",
   "mimetype": "text/x-python",
   "name": "python",
   "nbconvert_exporter": "python",
   "pygments_lexer": "ipython3",
   "version": "3.6.3"
  }
 },
 "nbformat": 4,
 "nbformat_minor": 2
}

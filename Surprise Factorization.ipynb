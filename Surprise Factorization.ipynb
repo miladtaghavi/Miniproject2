{
 "cells": [
  {
   "cell_type": "markdown",
   "metadata": {},
   "source": [
    "# Importing Data"
   ]
  },
  {
   "cell_type": "code",
   "execution_count": 1,
   "metadata": {},
   "outputs": [],
   "source": [
    "# Install using \"pip install surprise\"\n",
    "from surprise import SVD, Dataset, accuracy, BaselineOnly\n",
    "from surprise.reader import Reader\n",
    "from surprise.model_selection import cross_validate, GridSearchCV\n",
    "\n",
    "import numpy as np\n",
    "import matplotlib.pyplot as plt"
   ]
  },
  {
   "cell_type": "code",
   "execution_count": 85,
   "metadata": {},
   "outputs": [],
   "source": [
    "# Reader that reads tab-separated data\n",
    "reader = Reader(sep='\\t')\n",
    "full = Dataset.load_from_file(\"./data/data.txt\", reader=reader)\n",
    "train = Dataset.load_from_file(\"./data/train.txt\", reader=reader)\n",
    "test = Dataset.load_from_file(\"./data/test.txt\", reader=reader)"
   ]
  },
  {
   "cell_type": "markdown",
   "metadata": {},
   "source": [
    "# Training Models, Cross Validation, Test Error"
   ]
  },
  {
   "cell_type": "code",
   "execution_count": 38,
   "metadata": {},
   "outputs": [
    {
     "name": "stdout",
     "output_type": "stream",
     "text": [
      "RMSE: 0.8439\n",
      "RMSE: 0.9275\n"
     ]
    },
    {
     "data": {
      "text/plain": [
       "0.9275141057155419"
      ]
     },
     "execution_count": 38,
     "metadata": {},
     "output_type": "execute_result"
    }
   ],
   "source": [
    "# Create the classifier using the SVD model (not Singular Value Decomposition)\n",
    "# http://surprise.readthedocs.io/en/stable/matrix_factorization.html\n",
    "\n",
    "# Train on the training set\n",
    "clf = SVD(n_factors=20)\n",
    "clf.fit(train.build_full_trainset())\n",
    "\n",
    "# Measure the RMSE (root mean squared error) on the training set (E_in) and test set (E_out)\n",
    "accuracy.rmse(clf.test(train.build_full_trainset().build_testset()))\n",
    "accuracy.rmse(clf.test(test.build_full_trainset().build_testset()))"
   ]
  },
  {
   "cell_type": "code",
   "execution_count": 34,
   "metadata": {},
   "outputs": [
    {
     "name": "stdout",
     "output_type": "stream",
     "text": [
      "Evaluating RMSE of algorithm SVD on 5 split(s).\n",
      "\n",
      "                  Fold 1  Fold 2  Fold 3  Fold 4  Fold 5  Mean    Std     \n",
      "RMSE (testset)    0.9406  0.9392  0.9395  0.9322  0.9409  0.9385  0.0032  \n",
      "Fit time          3.81    3.87    3.93    3.74    2.30    3.53    0.62    \n",
      "Test time         0.25    0.26    0.22    0.18    0.13    0.21    0.05    \n"
     ]
    },
    {
     "data": {
      "text/plain": [
       "{'fit_time': (3.8101556301116943,\n",
       "  3.874810218811035,\n",
       "  3.9334514141082764,\n",
       "  3.7384836673736572,\n",
       "  2.3011441230773926),\n",
       " 'test_rmse': array([0.94060079, 0.93915055, 0.93950253, 0.93220324, 0.94087576]),\n",
       " 'test_time': (0.25360941886901855,\n",
       "  0.25711774826049805,\n",
       "  0.21852493286132812,\n",
       "  0.17943072319030762,\n",
       "  0.128326416015625)}"
      ]
     },
     "execution_count": 34,
     "metadata": {},
     "output_type": "execute_result"
    }
   ],
   "source": [
    "# TODO: Use cross-validation to tweak parameters such as n_factors, regularisation, initial guesses\n",
    "# GridSearchCV() \n",
    "# http://surprise.readthedocs.io/en/stable/model_selection.html\n",
    "clf = SVD(n_factors=20)\n",
    "cross_validate(clf, train, measures=['RMSE'], cv=5, verbose=True)"
   ]
  },
  {
   "cell_type": "markdown",
   "metadata": {},
   "source": [
    "# Training on Full Dataset, Getting Matrices"
   ]
  },
  {
   "cell_type": "code",
   "execution_count": 221,
   "metadata": {},
   "outputs": [
    {
     "data": {
      "text/plain": [
       "<surprise.prediction_algorithms.matrix_factorization.SVD at 0x15023282ef0>"
      ]
     },
     "execution_count": 221,
     "metadata": {},
     "output_type": "execute_result"
    }
   ],
   "source": [
    "# Using the optimized parameters from cross-validation, we fit on the entire training set/\n",
    "clf = SVD(n_factors=20)\n",
    "clf.fit(full.build_full_trainset())"
   ]
  },
  {
   "cell_type": "code",
   "execution_count": 222,
   "metadata": {},
   "outputs": [
    {
     "name": "stdout",
     "output_type": "stream",
     "text": [
      "(943, 20)\n",
      "(1682, 20)\n"
     ]
    }
   ],
   "source": [
    "# Get the coefficient matrices and check their shapes\n",
    "U = clf.pu # User coeffs\n",
    "V = clf.qi # Movie coeffs\n",
    "print(U.shape)\n",
    "print(V.shape)"
   ]
  },
  {
   "cell_type": "markdown",
   "metadata": {},
   "source": [
    "# SVD and Projection"
   ]
  },
  {
   "cell_type": "code",
   "execution_count": 223,
   "metadata": {},
   "outputs": [
    {
     "name": "stdout",
     "output_type": "stream",
     "text": [
      "(1682, 20)\n",
      "(1682, 20)\n",
      "(20, 20)\n",
      "(20, 20)\n"
     ]
    }
   ],
   "source": [
    "# Do SVD (singular value decomposition) on the matrices\n",
    "A, Sigma, B = np.linalg.svd(V, full_matrices=False) # V = A @ np.diag(Sigma) @ B \n",
    "print(V.shape)\n",
    "print(A.shape)\n",
    "print(np.diag(Sigma).shape)\n",
    "print(B.shape)"
   ]
  },
  {
   "cell_type": "code",
   "execution_count": 224,
   "metadata": {},
   "outputs": [
    {
     "name": "stdout",
     "output_type": "stream",
     "text": [
      "(2, 20)\n",
      "(1682, 2)\n",
      "[[-0.00903465 -0.00827802]\n",
      " [ 0.00119299  0.00941919]\n",
      " [ 0.01146579 -0.004782  ]\n",
      " ...\n",
      " [-0.0046568   0.00583735]\n",
      " [ 0.01367911  0.00365619]\n",
      " [ 0.00718788  0.00856975]]\n"
     ]
    }
   ],
   "source": [
    "# Take the first 2 rows(?) of A\n",
    "A_red = A[:2, :]\n",
    "print(A_red.shape)\n",
    "\n",
    "# Multiply with V to reduce V from 20 dim to 2 dim\n",
    "V_red = (V @ A_red.T)\n",
    "print(V_red.shape)\n",
    "print(V_red)"
   ]
  },
  {
   "cell_type": "markdown",
   "metadata": {},
   "source": [
    "# Visualization"
   ]
  },
  {
   "cell_type": "code",
   "execution_count": 225,
   "metadata": {},
   "outputs": [
    {
     "data": {
      "image/png": "[encoded data removed]",
      "text/plain": [
       "<matplotlib.figure.Figure at 0x1501ea859e8>"
      ]
     },
     "metadata": {},
     "output_type": "display_data"
    }
   ],
   "source": [
    "# Scatter the 2 dimensions of the reduced V\n",
    "plt.scatter(V_red[:, 0], V_red[:, 1])\n",
    "\n",
    "# Top 10 most popular movies\n",
    "for i in [50, 258, 100, 181, 294, 286, 288, 1, 300, 121]:\n",
    "    plt.scatter(V_red[clf.trainset.to_inner_iid(str(i)), 0], V_red[clf.trainset.to_inner_iid(str(i)), 1], c='r')"
   ]
  },
  {
   "cell_type": "code",
   "execution_count": 226,
   "metadata": {},
   "outputs": [
    {
     "data": {
      "image/png": "[encoded data removed]",
      "text/plain": [
       "<matplotlib.figure.Figure at 0x150207549e8>"
      ]
     },
     "metadata": {},
     "output_type": "display_data"
    }
   ],
   "source": [
    "# TODO: Copy the code from the basic visualization that allowed us sort the movies so that we can subselect the relevant\n",
    "# subsets of the movies.\n",
    "for i in [50, 258, 100, 181, 294, 286, 288, 1, 300, 121]:\n",
    "    plt.scatter(V_red[clf.trainset.to_inner_iid(str(i)), 0], V_red[clf.trainset.to_inner_iid(str(i)), 1])"
   ]
  }
 ],
 "metadata": {
  "kernelspec": {
   "display_name": "Python 3",
   "language": "python",
   "name": "python3"
  },
  "language_info": {
   "codemirror_mode": {
    "name": "ipython",
    "version": 3
   },
   "file_extension": ".py",
   "mimetype": "text/x-python",
   "name": "python",
   "nbconvert_exporter": "python",
   "pygments_lexer": "ipython3",
   "version": "3.6.2"
  }
 },
 "nbformat": 4,
 "nbformat_minor": 2
}
